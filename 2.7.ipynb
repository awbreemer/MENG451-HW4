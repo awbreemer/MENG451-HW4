{
 "cells": [
  {
   "cell_type": "code",
   "execution_count": 10,
   "metadata": {},
   "outputs": [
    {
     "name": "stdout",
     "output_type": "stream",
     "text": [
      "M is [1 0; 0 1]"
     ]
    },
    {
     "name": "stdout",
     "output_type": "stream",
     "text": [
      "\n",
      "C is [0.6000000000000001 -0.2; -0.2 0.2]\n",
      "K is [30 -10; -10 10]\n"
     ]
    }
   ],
   "source": [
    "using LinearAlgebra\n",
    "\n",
    "m = 1\n",
    "c1 = .4\n",
    "c2 = .2\n",
    "k1 = 20\n",
    "k2 = 10\n",
    "\n",
    "M = [m 0; 0 m]\n",
    "C = [(c1 + c2) -c2; -c2 c2]\n",
    "K = [(k1 + k2) -k2; -k2 k2]\n",
    "\n",
    "print(\"M is \", M, \"\\n\")\n",
    "print(\"C is \", C, \"\\n\")\n",
    "print(\"K is \", K, \"\\n\")\n",
    "\n"
   ]
  },
  {
   "attachments": {},
   "cell_type": "markdown",
   "metadata": {},
   "source": [
    "The format of the equation is $M\\ddot{X} + C\\dot{X} + KX = F$. Where the valus of M C and K are given above. In addition $X = \\begin{bmatrix} \\dot{x} \\\\ x \\end{bmatrix}$"
   ]
  },
  {
   "cell_type": "code",
   "execution_count": null,
   "metadata": {},
   "outputs": [],
   "source": []
  }
 ],
 "metadata": {
  "kernelspec": {
   "display_name": "Julia 1.8.5",
   "language": "julia",
   "name": "julia-1.8"
  },
  "language_info": {
   "file_extension": ".jl",
   "mimetype": "application/julia",
   "name": "julia",
   "version": "1.8.5"
  },
  "orig_nbformat": 4
 },
 "nbformat": 4,
 "nbformat_minor": 2
}
